{
 "cells": [
  {
   "cell_type": "code",
   "execution_count": 4,
   "metadata": {},
   "outputs": [
    {
     "name": "stdout",
     "output_type": "stream",
     "text": [
      "Enter Kilometer: 5\n",
      "Miles =  3.1\n"
     ]
    }
   ],
   "source": [
    "#Answer 1\n",
    "\n",
    "km = int(input(\"Enter Kilometer: \"))\n",
    "miles = km*0.62\n",
    "print(\"Miles = \" , miles)"
   ]
  },
  {
   "cell_type": "code",
   "execution_count": 6,
   "metadata": {},
   "outputs": [
    {
     "name": "stdout",
     "output_type": "stream",
     "text": [
      "Enter Celsius : 3\n",
      "37.4\n"
     ]
    }
   ],
   "source": [
    "#Answer 2\n",
    "Celsius = int(input(\"Enter Celsius : \"))\n",
    "\n",
    "fahrenheit = (Celsius * 9/5) +32\n",
    "print(fahrenheit)"
   ]
  },
  {
   "cell_type": "code",
   "execution_count": 7,
   "metadata": {},
   "outputs": [
    {
     "name": "stdout",
     "output_type": "stream",
     "text": [
      "Enter year = 2021\n",
      "Enter month in number = 5\n",
      "      May 2021\n",
      "Mo Tu We Th Fr Sa Su\n",
      "                1  2\n",
      " 3  4  5  6  7  8  9\n",
      "10 11 12 13 14 15 16\n",
      "17 18 19 20 21 22 23\n",
      "24 25 26 27 28 29 30\n",
      "31\n",
      "\n"
     ]
    }
   ],
   "source": [
    "#Answer 3\n",
    "import calendar\n",
    "yy = int(input(\"Enter year = \"))\n",
    "mm = int(input(\"Enter month in number = \"))\n",
    "print(calendar.month(yy,mm))"
   ]
  },
  {
   "cell_type": "code",
   "execution_count": 9,
   "metadata": {},
   "outputs": [
    {
     "name": "stdout",
     "output_type": "stream",
     "text": [
      "Enter a = 1\n",
      "Enter b = 5\n",
      "Enter c = 6\n",
      "(-2+0j) , (-3+0j)\n"
     ]
    }
   ],
   "source": [
    "#Answer 4 \n",
    "# Formula:\n",
    "# x=-b+-sqrt(b**2-4ac)/2*a\n",
    "import cmath\n",
    "a=int(input(\"Enter a = \"))\n",
    "b=int(input(\"Enter b = \"))\n",
    "c=int(input(\"Enter c = \"))\n",
    "discriminant = (b**2)-(4*a*c)\n",
    "sol_one = (-b+cmath.sqrt(discriminant))/(2*a)\n",
    "sol_two = (-b-cmath.sqrt(discriminant))/(2*a)\n",
    "print(sol_one ,\",\", sol_two)"
   ]
  },
  {
   "cell_type": "code",
   "execution_count": 10,
   "metadata": {},
   "outputs": [
    {
     "name": "stdout",
     "output_type": "stream",
     "text": [
      "First Variable =3\n",
      "Second Variable =9\n",
      "First Variable Before swap  : 3 \n",
      " Second variable Before Swap  : 9\n",
      "After Swap : \n",
      " First Variabe : 9 \n",
      "  Second Variable : 3\n"
     ]
    }
   ],
   "source": [
    "#Answer 5 \n",
    "first_variable = int(input(\"First Variable =\"))\n",
    "second_variable = int(input(\"Second Variable =\"))\n",
    "print(\"First Variable Before swap  : {} \\n Second variable Before Swap  : {}\".format(first_variable,second_variable))\n",
    "first_variable , second_variable = second_variable , first_variable\n",
    "\n",
    "print(\"After Swap : \\n First Variabe : {} \\n  Second Variable : {}\".format(first_variable , second_variable))"
   ]
  },
  {
   "cell_type": "code",
   "execution_count": null,
   "metadata": {},
   "outputs": [],
   "source": []
  }
 ],
 "metadata": {
  "kernelspec": {
   "display_name": "Python 3",
   "language": "python",
   "name": "python3"
  },
  "language_info": {
   "codemirror_mode": {
    "name": "ipython",
    "version": 3
   },
   "file_extension": ".py",
   "mimetype": "text/x-python",
   "name": "python",
   "nbconvert_exporter": "python",
   "pygments_lexer": "ipython3",
   "version": "3.8.5"
  }
 },
 "nbformat": 4,
 "nbformat_minor": 4
}
