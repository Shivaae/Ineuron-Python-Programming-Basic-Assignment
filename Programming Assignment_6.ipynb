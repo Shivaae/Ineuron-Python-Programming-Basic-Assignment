{
 "cells": [
  {
   "cell_type": "markdown",
   "metadata": {},
   "source": [
    "1. Write a Python Program to Display Fibonacci Sequence Using Recursion?"
   ]
  },
  {
   "cell_type": "code",
   "execution_count": 1,
   "metadata": {},
   "outputs": [
    {
     "name": "stdout",
     "output_type": "stream",
     "text": [
      "input no : 5\n",
      "0 1 1 2 3 "
     ]
    }
   ],
   "source": [
    "#answer\n",
    "def recurfib(n):\n",
    "    if n<=1:\n",
    "        return n\n",
    "    else:\n",
    "        return recurfib(n-1) + recurfib(n-2)\n",
    "\n",
    "num = int(input(\"input no : \"))\n",
    "\n",
    "if num <=0:\n",
    "    print(\"Please provide positive no.\")\n",
    "\n",
    "else:\n",
    "    for i in range(num):\n",
    "        print(recurfib(i) , end=\" \")\n",
    "       \n",
    "    "
   ]
  },
  {
   "cell_type": "markdown",
   "metadata": {},
   "source": [
    "\n",
    "2. Write a Python Program to Find Factorial of Number Using Recursion?"
   ]
  },
  {
   "cell_type": "code",
   "execution_count": 7,
   "metadata": {},
   "outputs": [
    {
     "name": "stdout",
     "output_type": "stream",
     "text": [
      "input a no : 5\n",
      "120\n"
     ]
    }
   ],
   "source": [
    "#answer\n",
    "def fact(n):\n",
    "    if n==0:\n",
    "        return 1\n",
    "    else:\n",
    "        return n * fact(n-1)\n",
    "\n",
    "num = int(input(\"input a no : \"))\n",
    "\n",
    "if num<0:\n",
    "    print(\"Enter positive no.\")\n",
    "else:\n",
    "    \n",
    "        print(fact(num))\n",
    "\n",
    "\n",
    "    "
   ]
  },
  {
   "cell_type": "markdown",
   "metadata": {},
   "source": [
    "3. Write a Python Program to calculate your Body Mass Index?¶"
   ]
  },
  {
   "cell_type": "code",
   "execution_count": 1,
   "metadata": {},
   "outputs": [
    {
     "name": "stdout",
     "output_type": "stream",
     "text": [
      "enter your height in feet : 5.7\n",
      "enter your weight in kilo : 62\n",
      "The BIM is =  1.9082794706063404\n"
     ]
    }
   ],
   "source": [
    "#answer\n",
    "\n",
    "# BMI = weight / Height * height\n",
    "\n",
    "h = float(input(\"enter your height in feet : \"))\n",
    "w = float(input(\"enter your weight in kilo : \"))\n",
    "\n",
    "bmi = w/(h**2)\n",
    "\n",
    "print(\"The BIM is = \",bmi)"
   ]
  },
  {
   "cell_type": "markdown",
   "metadata": {},
   "source": [
    "4. Write a Python Program to calculate the natural logarithm of any number?"
   ]
  },
  {
   "cell_type": "code",
   "execution_count": 2,
   "metadata": {},
   "outputs": [
    {
     "name": "stdout",
     "output_type": "stream",
     "text": [
      "Enter a number : 5\n",
      "Log of 5 is 1.6094379124341003\n"
     ]
    }
   ],
   "source": [
    "#answer\n",
    "import math\n",
    "x = int(input((\"Enter a number : \")))\n",
    "log = math.log(x)\n",
    "print(\"Log of {} is {}\".format(x, log))"
   ]
  },
  {
   "cell_type": "markdown",
   "metadata": {},
   "source": [
    "5. Write a Python Program for cube sum of first n natural numbers?"
   ]
  },
  {
   "cell_type": "code",
   "execution_count": 3,
   "metadata": {},
   "outputs": [
    {
     "name": "stdout",
     "output_type": "stream",
     "text": [
      "Enter a no :4\n",
      "Cube sum of 4 natural numbers is 100\n"
     ]
    }
   ],
   "source": [
    "num = int(input(\"Enter a no :\"))\n",
    "sum = 0\n",
    "for i in range(1 , num+1):\n",
    "    sum = sum + i**3\n",
    "print(\"Cube sum of {} natural numbers is {}\".format(num,sum))    \n",
    "\n"
   ]
  },
  {
   "cell_type": "code",
   "execution_count": null,
   "metadata": {},
   "outputs": [],
   "source": []
  }
 ],
 "metadata": {
  "kernelspec": {
   "display_name": "Python 3",
   "language": "python",
   "name": "python3"
  },
  "language_info": {
   "codemirror_mode": {
    "name": "ipython",
    "version": 3
   },
   "file_extension": ".py",
   "mimetype": "text/x-python",
   "name": "python",
   "nbconvert_exporter": "python",
   "pygments_lexer": "ipython3",
   "version": "3.8.5"
  }
 },
 "nbformat": 4,
 "nbformat_minor": 4
}
